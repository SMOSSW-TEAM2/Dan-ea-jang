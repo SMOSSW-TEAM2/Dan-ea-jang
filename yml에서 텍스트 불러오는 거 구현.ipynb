{
 "cells": [
  {
   "cell_type": "code",
   "execution_count": 6,
   "id": "1e088a19",
   "metadata": {},
   "outputs": [
    {
     "name": "stdout",
     "output_type": "stream",
     "text": [
      "['apple', '사과']\n",
      "{'apple': '사과'}\n"
     ]
    }
   ],
   "source": [
    "# yml 에서 텍스트 불러와서 리스트 화\n",
    "DJ_yml = open(\"localisation/kr/단어장_l_kr.yml\", 'r', encoding='UTF8')\n",
    "line = DJ_yml.readline()\n",
    "DJ_yml.close()\n",
    "list1 = line.split()\n",
    "print(list1)\n",
    "\n",
    "#딕셔너리 화[리스트의 홀,짝 수 번째에 따라 키, 벨류로 나눔]\n",
    "DJ_play = {}\n",
    "\n",
    "for i in range(0, len(list1), 2):\n",
    "    key = list1[i]\n",
    "    value = list1[i + 1] if i + 1 < len(list1) else None\n",
    "    DJ_play[key] = value\n",
    "\n",
    "print(DJ_play)\n",
    "\n",
    "#여러 줄 랜덤으로 출력기능은 업데이트 예정\n"
   ]
  }
 ],
 "metadata": {
  "kernelspec": {
   "display_name": "Python 3 (ipykernel)",
   "language": "python",
   "name": "python3"
  },
  "language_info": {
   "codemirror_mode": {
    "name": "ipython",
    "version": 3
   },
   "file_extension": ".py",
   "mimetype": "text/x-python",
   "name": "python",
   "nbconvert_exporter": "python",
   "pygments_lexer": "ipython3",
   "version": "3.9.13"
  }
 },
 "nbformat": 4,
 "nbformat_minor": 5
}
