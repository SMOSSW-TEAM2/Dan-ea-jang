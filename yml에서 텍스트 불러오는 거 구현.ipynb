{
 "cells": [
  {
   "cell_type": "code",
   "execution_count": 101,
   "id": "53c1751b",
   "metadata": {},
   "outputs": [
    {
     "name": "stdout",
     "output_type": "stream",
     "text": [
      "{'pistol': '권총', 'leave': '떠나다', 'viper': '독사', 'long': '긴', 'chart': '차트', 'vest': '조끼', 'dress': '드레스', 'lot': '많음', 'umbrella': '우산', 'office': '사무실', 'pasta': '파스타', 'band': '밴드', 'negative': '부정적인', 'quote': '인용하다', 'case': '경우', 'block': '사각형', '덩어리': 'yawn', '하품하다': 'zesty', '토끼': 'discipline', '규율': 'deck', '갑판': 'onion', '양파': 'cancellation', '해제': 'outside', '바깔쪽': 'hill', '언덕': 'wreck', '난파하다': 'warrior', '전사': 'channel', '채널': 'robot', '로봇': 'balance', 'mean': '뜻하다', 'object': '물건', 'adult': '어른', 'unicorn': '유니콘', 'zeal': '열정', 'veil': '베일', 'lady': '숙녀', 'vampire': '흡혈귀', 'letter': '편지', 'nice': '좋은', 'treasure': '보물', 'monkey': '원숭이', 'yogurt': '요거트', 'lie': '거짓말', 'division': '분할', 'joke': '농담', 'village': '마을', 'accent': '말씨', 'communication': '의사소통', 'reperceive': '재인식하다', 'satisfied': '만족한', 'animal': '동물', 'one': '하나', 'utensil': '도구', 'apply': '신청하다', 'attention': '주의', 'ghost': '유령', 'degree': '도', 'body': '몸', 'book': '책', 'enemy': '적', 'meet': '만나다', 'poision': '독', 'xanthic': '황색의', 'school': '학교', 'core': '중심부', 'xylophone': '실로폰', 'dash': '돌진', 'party': '파티', 'mark': '표시하다', 'quality': '품질', 'soft': '부드러운', 'reapporve': '다시', '찬성하다': 'decoration', '장식품': 'smile', '미소': 'quain', '숫자10': 'list', '목록': 'yellow', '노랑': 'age', '나이': 'wiggle', '비비다': 'line', '선': 'aim', '조준': 'loud', '시끄러운': 'abuse', '학대': 'chip', '조각': 'boot', '부츠': 'shopping', '쇼핑': 'game', '게임': 'lip', '입술': 'x-ray', '엑스레이': 'bridge', '다리': 'vibrate', '병원': 'yarn', '실': 'hat', '모자': 'address', '주소': 'crop', '농작물': 'air', '공기': 'original', '원래의': 'light', '빛': 'bill', '고지서': 'match', '경기': 'vibrant', '활기': '넘치는', 'rain': '비', 'old': '나이', '많은': 'surprise', '놀람': 'knife', '칼': 'yearn', '갈망하다': 'xenophobia', '외인': '공포증', 'waterfall': '폭포', 'zoo': '동물원', 'sleep': '잠', 'like': '좋아하다', 'craft': '공예', 'usher': '안내원', 'brain': '뇌', 'vase': '꽃병', 'voyage': '항해', 'simple': '간단한', 'approach': '다가가다', 'dot': '점', 'lunch': '점심', 'yoga': '요가', 'lead': '이끌다', 'unique': '독특한', 'riparare': '수리하다', 'table': '탁자', 'award': '상', 'queen': '여왕', 'wander': '배회하다', 'owner': '소유주', 'dish': '접시', 'quit': 'on', 'miss': '놓치다', 'most': '최대의', 'damaged': '손상', 'memory': '기억', 'tiger': '호랑이', 'look': '보다', 'fix': '고치다', 'yacht': '요트', 'yummy': '맛있는', 'summer': '여름', 'boy': '소년', 'imperishability': '불멸', 'wrestle': '씨름하다', 'recrew': '모집하다', 'agent': '대리인', 'bandage': '붕대', 'recycle': '재활용', 'volcano': '화산', 'jealousy': '질투', 'quadrent': 'test', '사분위': '검정', 'zestful': '열정적인', 'vaccine': '백신', 'code': '암호', 'bubble': '거품', 'bowl': '그릇', 'upstairs': '위층', 'crash': '사고', 'alien': '외계인', 'quar': '불평하다', 'luck': '운', 'post': '메모', 'net': '망사', 'xenial': '호의적인', 'yesterday': '어제', 'vehicle': '차량', 'measure': '측정하다', 'doll': '인형', 'market': '시장', 'back': '등', '저버리다': 'zinc', '아연': 'official', '공식적인': 'answer', '대답': 'bay', '구역': 'sandwich', '샌드위치': 'doctor', '의사': 'brush', '붓': 'court', '법정': 'advance', '전진': 'desert', '사막': 'vault', '금고': 'class', '학급': 'violin', '바이올린': 'waffle', '와플': 'ultimate', '궁극적인': 'lamp', '램프': 'appeal', '항소': 'leaf', '나뭇잎': 'vortex', '소용돌이': 'yield', '양보하다': 'make', '만들다': 'uniform', '유니폼': 'charge', '요금': 'control', '통제': 'yacht', '요트': 'xylitol', '자일리톨': 'distance', '거리': 'material', '직물': 'towel', '수건': 'zombie', '좀비': 'name', '이름': 'minor', '작은': 'club', '동호회': 'nail', '손톱': 'area', '지역': 'cloud', '구름': 'magic', '마술': 'baht', '욕조': 'teaspoon', '티스푼': 'understand', '이해하다': 'fail', '실패하다': 'large', '큰': 'voodoo', '부두술': 'twinkle', '반짝임': 'attack', '공격': 'affair', '문제': 'rash', 'of': '터무니없는', 'taxi': '택시', 'safety': '안전', 'queasy': '매스꺼운', 'youth': '청소년', 'ticket': '티켓', 'bottle': '병', 'course': '강의', 'detail': '세부', '사항': 'willow', '버드나무': 'listen', '듣다': 'witty', '재치': '있는', 'tree': '나무', 'dust': '먼지', 'uproar': '소란', 'soccer': '축구', 'offer': '제의하다', 'decay': '부패', 'corn': '옥수수', 'yodel': '요들', 'draft': '원고', 'low': '낮은', 'quash': '진압하다', 'man': '남자', 'dream': '꿈', 'card': '카드', 'bag': '가방', 'energy': '에너지', 'account': '계좌', 'ocean': '바다', 'major': '주요한', 'cap': '모자', 'wavelength': '파장', 'quarrel': '언쟁', 'turtle': '거북이', 'board': '판자', 'zenith': '정점', 'fall': '추락', 'tornado': '토네이도', 'defence': '방어', 'bomb': '폭탄', 'depth': '깊이', 'corner': '모서리', 'wizard': '마법사', 'observe': '관찰하다', 'support': '지원', 'only': '유일한', 'credit': '신용', '거래': 'nature', '자연': 'unleash', '풀어놓다': 'yawn', '풍미': '있는', 'neat': '정돈된', 'rich': '부자', 'love': '사랑', 'lose': '잃다', 'development': '발달', 'origin': '기원', 'ally': '동맹국', 'attempt': '시도', 'model': '모형', 'reviving': '부활', '시키는': 'weird', '기묘한': 'camp', '야영지': 'copy', '복사': 'leg', '진동하다': 'application', '지원': 'rope', '끈': 'upholstery', '도금': 'vineyard', '포도원': 'need', '필요로': '하다', 'new': '새로운', 'sunlight': '햇빛', 'rockin': '멋진', 'qualify': '자격을', '주다': 'zipper', '지퍼': 'ask', '묻다': 'lake', '호수': 'aid', '원조': 'direction', '방향': 'zebra', '얼룩말': 'order', '명령하다': 'library', '도서관': 'last', '마지막': 'dance', '춤': 'oil', '기름': 'baby', '아기': 'care', '돌봄': 'yonder', '저쪽': 'wallet', '지갑': 'sincere', '성실한': 'occupy', '차지하다': 'interrupt', '방해하다': 'apple', '사과': 'output', '출력': 'questions', '질문': 'banana', '바나나': 'action', '행동': 'whisper', '속삭이다': 'cup', '컵': 'demand', '요구': 'let', '하게하다': 'base', '맨': '아래', '부분': 'art', '예술': 'land', '육지': 'money', '돈': 'aspect', '측면': 'lesson', '수업': 'native', '태어난': '곳의', 'move': '움직이다', 'bed': '침대', 'television': '텔레비전', 'bank': '은행', 'tomato': '토마토', 'drink': '음료', 'once': '한번', 'replot': '다시구성하다', 'left': '왼쪽', 'it': '그것', 'learn': '익히다', 'korea': '한국', 'bar': '술집', 'cross': '십자가', 'zigzag': '지그재그', 'box': '상자', 'note': '메모', 'window': '창문', 'mind': '마음', 'belt': '허리띠', 'alarm': '불안', 'jail': '감옥', 'late': '늦은', 'lion': '사자', 'tango': '탱고', 'useful': '유용한', 'quick': '빠른', 'drum': '북', 'victory': '승리', 'dosage': '복용량', 'gift': '선물', 'bottom': '맨', '아래': 'desire', '욕구': 'notice', '주목하다': 'jellyfish', '해파리': 'operate', '작동되다': 'universe', '우주': 'master', '주인': 'arm', '팔': 'orange', '오렌지': 'date', '날짜': 'cell', '감방': 'ratfuck', '훔치다': 'update', '업데이트하다': 'key', '열쇠': 'elegant', '우아한': 'deposit', '보증금': 'wonder', '궁금하다': 'mushroom', '버섯': 'dog', '개': 'laugh', '웃다': 'octopus', '문어': 'cost', '비용': 'design', '설계': 'branch', '나뭇가지': 'success', '성공': 'medium', '중간의': 'quota', '할당': 'attend', '참석하다': 'walrus', '바다코끼리': 'x-axis', 'x축': 'condition', '상태': 'whale', '고래': 'open', '열다': 'run', '달리다': 'peace', '평화': 'ball', '공': 'yak', '야크': 'more', '더': 'crown', '왕관': 'city', '도시': None}\n"
     ]
    }
   ],
   "source": [
    "import random\n",
    "import itertools\n",
    "\n",
    "DJ_play_list = []\n",
    "DJ_yml = open(\"localisation/kr/단어장_l_kr.yml\", 'r', encoding='UTF8')\n",
    "for i in DJ_yml.readlines():\n",
    "    DJ_play_list.append(i.split())\n",
    "random.shuffle(DJ_play_list)\n",
    "DJ_play_list = list(itertools.chain(*DJ_play_list))\n",
    "\n",
    "DJ_yml.close()\n",
    "\n",
    "\n",
    "DJ_play_dict = {}\n",
    "for i in range(0, len(DJ_play_list), 2):\n",
    "    key = DJ_play_list[i]\n",
    "    value = DJ_play_list[i + 1] if i + 1 < len(DJ_play_list) else None\n",
    "    DJ_play_dict[key] = value\n",
    "\n",
    "print(DJ_play_dict)"
   ]
  },
  {
   "cell_type": "code",
   "execution_count": 93,
   "id": "883c2c7f",
   "metadata": {},
   "outputs": [
    {
     "name": "stdout",
     "output_type": "stream",
     "text": [
      "[]\n",
      "{}\n"
     ]
    }
   ],
   "source": [
    "import random\n",
    "\n",
    "DJ_yml = open(\"localisation/kr/단어장_l_kr.yml\", 'r', encoding='UTF8')\n",
    "DJ_play_list = [line.split() for line in DJ_yml.readlines()]\n",
    "DJ_play_list = [word for line in DJ_yml.readlines() for word in line.split()]\n",
    "DJ_yml.close()\n",
    "\n",
    "print(DJ_play_list)\n",
    "\n",
    "DJ_play_dict = {}\n",
    "for i in range(0, len(DJ_play_list), 2):\n",
    "    key = tuple(DJ_play_list[i])\n",
    "    value = tuple(DJ_play_list[i + 1]) if i + 1 < len(DJ_play_list) else None\n",
    "    DJ_play_dict[key] = value\n",
    "\n",
    "print(DJ_play_dict)\n"
   ]
  }
 ],
 "metadata": {
  "kernelspec": {
   "display_name": "Python 3 (ipykernel)",
   "language": "python",
   "name": "python3"
  },
  "language_info": {
   "codemirror_mode": {
    "name": "ipython",
    "version": 3
   },
   "file_extension": ".py",
   "mimetype": "text/x-python",
   "name": "python",
   "nbconvert_exporter": "python",
   "pygments_lexer": "ipython3",
   "version": "3.10.9"
  }
 },
 "nbformat": 4,
 "nbformat_minor": 5
}
