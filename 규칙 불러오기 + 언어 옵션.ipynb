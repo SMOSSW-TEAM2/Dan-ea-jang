{
 "cells": [
  {
   "cell_type": "code",
   "execution_count": 12,
   "id": "02e02510",
   "metadata": {},
   "outputs": [
    {
     "name": "stdout",
     "output_type": "stream",
     "text": [
      "単語帳　練習　開始:　保存してある英単語を映し、その単語に見合った日本語を入力すると点数が追加されます。\n",
      "単語　追加:　新しい単語を追加します。[英単語　日本語]　の順で作ります\n",
      "単語　確認:　単語一覧を確認します。\n",
      "設定:　言語　出題　単語数　などの設定値を変更します。\n"
     ]
    }
   ],
   "source": [
    "class DJ_options:\n",
    "    def Language(x):\n",
    "        global lang\n",
    "        lang = x \n",
    "        return\n",
    "\n",
    "def DJ_rule_local(x):\n",
    "    if x == 1:\n",
    "        file_path = \"localisation/kr/text_l_kr.yml\"\n",
    "    elif x == 2:\n",
    "        file_path = \"localisation/jp/text_l_jp.yml\"\n",
    "    elif x == 3:\n",
    "        file_path = \"localisation/en/text_l_en.yml\"\n",
    "    \n",
    "    with open(file_path, 'r', encoding='UTF8') as file:\n",
    "        DJ_rule = file.read()\n",
    "        file.close()\n",
    "        print(DJ_rule)\n",
    "    return \n",
    "\n",
    "\n",
    "DJ_options.Language(2)\n",
    "DJ_rule_local(lang)"
   ]
  }
 ],
 "metadata": {
  "kernelspec": {
   "display_name": "Python 3 (ipykernel)",
   "language": "python",
   "name": "python3"
  },
  "language_info": {
   "codemirror_mode": {
    "name": "ipython",
    "version": 3
   },
   "file_extension": ".py",
   "mimetype": "text/x-python",
   "name": "python",
   "nbconvert_exporter": "python",
   "pygments_lexer": "ipython3",
   "version": "3.9.13"
  }
 },
 "nbformat": 4,
 "nbformat_minor": 5
}
