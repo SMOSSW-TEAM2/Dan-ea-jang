{
 "cells": [
  {
   "cell_type": "code",
   "execution_count": 23,
   "id": "02e02510",
   "metadata": {},
   "outputs": [
    {
     "name": "stdout",
     "output_type": "stream",
     "text": [
      "3\n",
      "Start practicing vocabulary: If you call up an English word from a saved word and answer the corresponding Korean meaning, your score will be measured.\n",
      "Add a word: Add a specific word. Write in the order of [English words, Korean].\n",
      "Check words: Check the list of words.\n",
      "Settings: Change settings such as language and number of words.\n",
      "\n"
     ]
    }
   ],
   "source": [
    "class DJ_options:\n",
    "    def Language(x):\n",
    "        global lang\n",
    "        lang = x \n",
    "        return\n",
    "\n",
    "def DJ_rule_local(x):\n",
    "    if x == 1:\n",
    "        DJ_yml2 = open(\"localisation/kr/text_l_kr.yml\", 'r', encoding='UTF8')\n",
    "        DJ_rule = DJ_yml2.read()\n",
    "        DJ_yml2.close()\n",
    "        return print(DJ_rule)\n",
    "    elif x == 2:\n",
    "        DJ_yml2 = open(\"localisation/jp/text_l_jp.yml\", 'r', encoding='UTF8')\n",
    "        DJ_rule = DJ_yml2.read()\n",
    "        DJ_yml2.close()\n",
    "        return print(DJ_rule)\n",
    "    elif x == 3:\n",
    "        DJ_yml2 = open(\"localisation/en/text_l_en.yml\", 'r', encoding='UTF8')\n",
    "        DJ_rule = DJ_yml2.read()\n",
    "        DJ_yml2.close()\n",
    "        return print(DJ_rule)\n",
    "\n",
    "\n",
    "DJ_options.Language(3)\n",
    "print(lang)\n",
    "DJ_rule_local(lang)"
   ]
  }
 ],
 "metadata": {
  "kernelspec": {
   "display_name": "Python 3 (ipykernel)",
   "language": "python",
   "name": "python3"
  },
  "language_info": {
   "codemirror_mode": {
    "name": "ipython",
    "version": 3
   },
   "file_extension": ".py",
   "mimetype": "text/x-python",
   "name": "python",
   "nbconvert_exporter": "python",
   "pygments_lexer": "ipython3",
   "version": "3.10.9"
  }
 },
 "nbformat": 4,
 "nbformat_minor": 5
}
