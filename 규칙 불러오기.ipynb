{
 "cells": [
  {
   "cell_type": "code",
   "execution_count": 3,
   "id": "62f2514e",
   "metadata": {},
   "outputs": [
    {
     "name": "stdout",
     "output_type": "stream",
     "text": [
      "단어장 연습 시작: 저장된 단어에서 영단어를 불러와 그에 맞는 한국어 뜻을 답하면 점수가 측정됩니다.\n",
      "단어 추가: 세로운 단어를 추가합니다. [영단어 한국어] 순으로 작성합니다.\n",
      "단어 확인: 단어 목록을 확인합니다.\n",
      "설정: 언어, 출제 단어 수 등의 설정값을 변경합니다.\n",
      "\n"
     ]
    }
   ],
   "source": [
    "def DJ_open():\n",
    "    DJ_yml2 = open(\"localisation/kr/text_l_kr.yml\", 'r', encoding='UTF8')\n",
    "    DJ_rule = DJ_yml2.read()\n",
    "    DJ_yml2.close()\n",
    "    return print(DJ_rule)\n",
    "DJ_open()"
   ]
  }
 ],
 "metadata": {
  "kernelspec": {
   "display_name": "Python 3 (ipykernel)",
   "language": "python",
   "name": "python3"
  },
  "language_info": {
   "codemirror_mode": {
    "name": "ipython",
    "version": 3
   },
   "file_extension": ".py",
   "mimetype": "text/x-python",
   "name": "python",
   "nbconvert_exporter": "python",
   "pygments_lexer": "ipython3",
   "version": "3.9.13"
  }
 },
 "nbformat": 4,
 "nbformat_minor": 5
}
