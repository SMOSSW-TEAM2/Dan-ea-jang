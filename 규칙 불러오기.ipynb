{
 "cells": [
  {
   "cell_type": "code",
   "execution_count": 15,
   "id": "62f2514e",
   "metadata": {},
   "outputs": [
    {
     "name": "stdout",
     "output_type": "stream",
     "text": [
      "Start practicing vocabulary: If you call up an English word from a saved word and answer the corresponding Korean meaning, your score will be measured.\n",
      "Add a word: Add a specific word. Write in the order of [English words, Korean].\n",
      "Check words: Check the list of words.\n",
      "Settings: Change settings such as language and number of words.\n",
      "\n",
      "단어장 연습 시작: 저장된 단어에서 영단어를 불러와 그에 맞는 한국어 뜻을 답하면 점수가 측정됩니다.\n",
      "단어 추가: 세로운 단어를 추가합니다. [영단어 한국어] 순으로 작성합니다.\n",
      "단어 확인: 단어 목록을 확인합니다.\n",
      "설정: 언어, 출제 단어 수 등의 설정값을 변경합니다.\n",
      "\n"
     ]
    }
   ],
   "source": [
    "def DJ_rule_local2(x):\n",
    "    if x == 1:\n",
    "        DJ_yml2 = open(\"localisation/kr/text_l_kr.yml\", 'r', encoding='UTF8')\n",
    "    elif x == 2:\n",
    "        DJ_yml2 = open(\"localisation/jp/text_l_jp.yml\", 'r', encoding='UTF8')\n",
    "    elif x == 3:\n",
    "        DJ_yml2 = open(\"localisation/en/text_l_en.yml\", 'r', encoding='UTF8')\n",
    "    \n",
    "    DJ_rule = DJ_yml2.read()\n",
    "    DJ_yml2.close()\n",
    "    return print(DJ_rule)s\n",
    "\n",
    "local = 1 # 이 함수는 언어 설정에 따라 변경되게 할 예정 ",
    "DJ_rule_local2(local)"
   ]
  },
  {
   "cell_type": "code",
   "execution_count": null,
   "id": "c04ef31f",
   "metadata": {},
   "outputs": [],
   "source": []
  }
 ],
 "metadata": {
  "kernelspec": {
   "display_name": "Python 3 (ipykernel)",
   "language": "python",
   "name": "python3"
  },
  "language_info": {
   "codemirror_mode": {
    "name": "ipython",
    "version": 3
   },
   "file_extension": ".py",
   "mimetype": "text/x-python",
   "name": "python",
   "nbconvert_exporter": "python",
   "pygments_lexer": "ipython3",
   "version": "3.9.13"
  }
 },
 "nbformat": 4,
 "nbformat_minor": 5
}
