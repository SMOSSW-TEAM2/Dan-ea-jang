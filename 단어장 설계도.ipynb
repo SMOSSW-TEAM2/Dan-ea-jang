{
 "cells": [
  {
   "cell_type": "code",
   "execution_count": 6,
   "id": "a1506b90",
   "metadata": {},
   "outputs": [
    {
     "ename": "IndentationError",
     "evalue": "expected an indented block (2875209593.py, line 10)",
     "output_type": "error",
     "traceback": [
      "\u001b[1;36m  File \u001b[1;32m\"C:\\Users\\2020A00143\\AppData\\Local\\Temp\\ipykernel_10196\\2875209593.py\"\u001b[1;36m, line \u001b[1;32m10\u001b[0m\n\u001b[1;33m    \u001b[0m\n\u001b[1;37m    ^\u001b[0m\n\u001b[1;31mIndentationError\u001b[0m\u001b[1;31m:\u001b[0m expected an indented block\n"
     ]
    }
   ],
   "source": [
    "#=====================실행기 실행======================\n",
    "#설정 불러오기\n",
    "\n",
    "#설정을 적용시킴\n",
    "\n",
    "#설정 닫기\n",
    "\n",
    "#설정에 따라 불러올 언어 경로 설정\n",
    "\n",
    "#==============타이틀 화면============================\n",
    "\n",
    "#뭔가 있어보이는 타이틀 출력\n",
    "\n",
    "print(\"게임 시작 환영문\")  # 설정에 따라 언어 폴더 경로가 바뀌기 때문에 출력 언어가 바뀜\n",
    "\n",
    "while True:    #선택창\n",
    "    commend = input(\"1:게임시작, 2:게임규칙, 3:단어추가, 4:단어확인, 5:설정\") #커맨드 받고 if문으로\n",
    "    \n",
    "    #1: 게임 시작\n",
    "    \n",
    "\n",
    "    #2: 게임 규칙 <= local 폴더에 있는 yml 파일에서 출력 후 다시 타이틀로\n",
    "    \n",
    "    \n",
    "    #3:단어 추가 <= local 폴더에 있는 yml 파일 열고 저장 후 닫고 타이틀로  <=언어별로 만들 수 있으나 언어가 많으면 작업량이 늘어남\n",
    "    #또는 언어 상관없이 단어 저장하는 파일 통일하고 출력 후 타이틀로   <= 작업량은 줄어드나 언어별로 만들 수 없음          \n",
    "    #또는 기본 단어 따로 추가 단어 따로 만들어서 이어서 출력 후 타이틀로 <= 관리가 편리하나 작업량이 언어의 개수에 따라 달라짐    \n",
    "    \n",
    "    \n",
    "    \n",
    "    \n",
    "    #4: 단어 확인 <= 위에서 정한 파일 열어서 출력 후 타이틀로 돌아가기\n",
    "\n",
    "    \n",
    "    \n",
    "    \n",
    "    \n",
    "    \n",
    "    #5: 설정 <= 5-1.설정 저장된 파일 열어서 적용  \n",
    "            #5-2.설정에 따라 출력 \n",
    "            #5-3. 인풋을 통해 설정을 하나하나 입력하고 파일저장 \n",
    "            #5-4. 파일에 저장된 설정을 적용하고 닫기 \n",
    "            #5-5. 타이틀로\n",
    "        \n",
    "        \n",
    "            "
   ]
  }
 ],
 "metadata": {
  "kernelspec": {
   "display_name": "Python 3 (ipykernel)",
   "language": "python",
   "name": "python3"
  },
  "language_info": {
   "codemirror_mode": {
    "name": "ipython",
    "version": 3
   },
   "file_extension": ".py",
   "mimetype": "text/x-python",
   "name": "python",
   "nbconvert_exporter": "python",
   "pygments_lexer": "ipython3",
   "version": "3.9.13"
  }
 },
 "nbformat": 4,
 "nbformat_minor": 5
}
