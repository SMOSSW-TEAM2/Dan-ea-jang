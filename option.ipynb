{
 "cells": [
  {
   "cell_type": "code",
   "execution_count": null,
   "id": "d3a6ecee",
   "metadata": {},
   "outputs": [],
   "source": [
    "class DJ_options:\n",
    "    def Language(x):\n",
    "        global lang\n",
    "        lang = x \n",
    "        return\n",
    "    \n",
    "    def Count(x): #<- 인풋 받아서 x만큼 문제 출력한다(구현 필요)\n",
    "        \n",
    "        \n",
    "    def Life(x): #<- 인풋 받아서 x만큼 목숨 부여한다 (구현 필요)\n"
   ]
  }
 ],
 "metadata": {
  "kernelspec": {
   "display_name": "Python 3 (ipykernel)",
   "language": "python",
   "name": "python3"
  },
  "language_info": {
   "codemirror_mode": {
    "name": "ipython",
    "version": 3
   },
   "file_extension": ".py",
   "mimetype": "text/x-python",
   "name": "python",
   "nbconvert_exporter": "python",
   "pygments_lexer": "ipython3",
   "version": "3.9.13"
  }
 },
 "nbformat": 4,
 "nbformat_minor": 5
}
