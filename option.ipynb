import random


dictionary = {"apple": "사과", "banana": "바나나", "lemon": "레몬", "grape": "포도"}	dictionary = {"apple": "사과", "banana": "바나나", "lemon": "레몬", "grape": "포도"}


# 목숨 설정
lives = 3

def start_practice():	def start_practice():
    keys = list(dictionary.keys())	    keys = list(dictionary.keys())


@@ -33,6 +36,23 @@ def add_word():
        file.write("{}:{}\n".format(word, meaning))	        file.write("{}:{}\n".format(word, meaning))


    print("단어가 추가되었습니다.")	    print("단어가 추가되었습니다.")

def delete_word(word_dict, word):
    if word in word_dict:
        del word_dict[word]
        print(f"'{word}'이(가) 삭제되었습니다.")

# 단어장 리스트 생성
dictionary = {"apple": "사과", "banana": "바나나", "lemon": "레몬", "grape": "포도"}

# "banana" 단어 삭제
delete_word(dictionary, "banana")

# "grape" 단어 삭제
delete_word(dictionary, "grape")

# 삭제 후 단어장 출력
print(dictionary)


def show_dictionary():	def show_dictionary():
    with open("dictionary.txt", "r") as file:	    with open("dictionary.txt", "r") as file:
@@ -94,3 +114,73 @@ while True:


    else:	    else:
        print("잘못된 입력입니다.")	        print("잘못된 입력입니다.")

# 단어장 딕셔너리 생성
word_dict = {"apple": "사과", "banana": "바나나", "lemon": "레몬", "grape": "포도"}

# 초기 점수 설정
score = 0

# 문제 출제 함수
def quiz():
    global score  # 점수 변수를 전역 변수로 사용

    for word, definition in dictionary.items():
        answer = input(f"{definition}은(는) 무엇일까요? ")
        if answer == word:
            score += 1  # 정답이면 점수 1 증가

            # 한국어 규칙 함수
def korean_rules():
    print("한국어 규칙을 출력합니다.")

# 일본어 규칙 함수
def japanese_rules():
    print("일본어 규칙을 출력합니다.")

# 영어 규칙 함수
def english_rules():
    print("영어 규칙을 출력합니다.")

# DJ_ptions.Language(x)
def DJ_ptions_Language(x):
    global lang
    if x == 1:
        lang = "한국어"
    elif x == 2:
        lang = "일본어"
    elif x == 3:
        lang = "영어"
    else:
        print("지원하지 않는 언어 옵션입니다.")

# DJ_rule_local(lang)
def DJ_rule_local(lang):
    if lang == "한국어":
        korean_rules()
    elif lang == "일본어":
        japanese_rules()
    elif lang == "영어":
        english_rules()
    else:
        print("지원하지 않는 언어입니다.")

# 문제 출제 실행
quiz()

# 결과 출력
print("점수:", score)

# 목숨 부여 함수
def Life(x):
    global lives
    lives += x

# 문제 출제 실행
Count(5)

# 목숨 부여 실행
Life(2)

# 결과 출력
print("남은 목숨:", lives)
