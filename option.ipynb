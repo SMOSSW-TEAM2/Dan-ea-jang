{
 "cells": [
  {
   "cell_type": "code",
   "execution_count": null,
   "id": "d3a6ecee",
   "metadata": {},
   "outputs": [],
   "source": [
    "# 그냥 함수 지정해서 불러오기 or txt나 yml로 저장해서 출력후 저장하기 or class로 불러오기\n",
    "\n",
    "\n",
    "#===============언어===================\n",
    "Language =  #언어\n",
    "#===============난이도=================\n", "단어의 난이도 측정을 어떻게 할건가요?"
    "Seconds =  #문제당 시간\n",
    "Count =  #문제 개수\n",
    "Life =  #목숨 수\n",
    "#=================색맹================\n",
    "Color_Blindness =  #색맹용 0아니면 1 <= 이 기능은 넣을지 말지 고민중,  <-- 이기능은  필요없을 것 같아요! "
    "#=================난이도================\n",
    "random 문제 출제\n"
    "맞으면 count+=1 틀리면 Life -=1\n"
    "Life =  #목숨 수\n",
   ]
  }
 ],
 "metadata": {
  "kernelspec": {
   "display_name": "Python 3 (ipykernel)",
   "language": "python",
   "name": "python3"
  },
  "language_info": {
   "codemirror_mode": {
    "name": "ipython",
    "version": 3
   },
   "file_extension": ".py",
   "mimetype": "text/x-python",
   "name": "python",
   "nbconvert_exporter": "python",
   "pygments_lexer": "ipython3",
   "version": "3.9.13"
  }
 },
 "nbformat": 4,
 "nbformat_minor": 5
}
